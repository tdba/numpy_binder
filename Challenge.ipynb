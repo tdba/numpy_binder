{
 "cells": [
  {
   "cell_type": "markdown",
   "metadata": {
    "pycharm": {
     "name": "#%% md\n"
    }
   },
   "source": [
    "## Numpy"
   ]
  },
  {
   "cell_type": "markdown",
   "metadata": {
    "pycharm": {
     "name": "#%% md\n"
    }
   },
   "source": [
    "### NumPy is a Python library used for working with arrays and that also has multiple statistical built-in function\n",
    "### It is always import as np\n"
   ]
  },
  {
   "cell_type": "code",
   "execution_count": null,
   "metadata": {
    "collapsed": false,
    "jupyter": {
     "outputs_hidden": false
    },
    "pycharm": {
     "name": "#%%\n"
    }
   },
   "outputs": [],
   "source": [
    "# Make your imports"
   ]
  },
  {
   "cell_type": "markdown",
   "metadata": {},
   "source": [
    "<details><summary markdown='span'>View solution</summary>\n",
    "\n",
    "```python\n",
    "import math\n",
    "\n",
    "import matplotlib.pyplot as plt\n",
    "import numpy as np\n",
    "import pandas as pd\n",
    "```\n",
    "</details>"
   ]
  },
  {
   "cell_type": "markdown",
   "metadata": {
    "pycharm": {
     "name": "#%% md\n"
    }
   },
   "source": [
    "### Create a numpy array using the given list\n"
   ]
  },
  {
   "cell_type": "code",
   "execution_count": null,
   "metadata": {
    "collapsed": false,
    "jupyter": {
     "outputs_hidden": false
    },
    "pycharm": {
     "name": "#%%\n"
    }
   },
   "outputs": [],
   "source": [
    "arr = [1, 2, 3, 4, 5, 6]\n",
    "np_arr = ...\n",
    "type(np_arr)\n",
    "\n",
    "# Use a list containing strings and a list containing different data types\n",
    "np_arr_str = ...\n",
    "np_arr_random = ..."
   ]
  },
  {
   "cell_type": "markdown",
   "metadata": {},
   "source": [
    "<details><summary markdown='span'>View solution</summary>\n",
    "\n",
    "```python\n",
    "np_arr = np.array([1, 2, 5, 7, 8, 10])\n",
    "type(np_arr)\n",
    "\n",
    "# Such as in a list, you can store multiple types of data in a numpy array (str, int, float, bool, object, ...)\n",
    "np_arr_str = np.array([\"I\", \"Love\", \"Numpy\", \"Arrays\"])\n",
    "np_arr_random = np.array([\"I\", 5, True, 1.6])\n",
    "```\n",
    "</details>"
   ]
  },
  {
   "cell_type": "markdown",
   "metadata": {
    "pycharm": {
     "name": "#%% md\n"
    }
   },
   "source": [
    "### You can also create n-D arrays (matrix)"
   ]
  },
  {
   "cell_type": "code",
   "execution_count": null,
   "metadata": {
    "collapsed": false,
    "jupyter": {
     "outputs_hidden": false
    },
    "pycharm": {
     "name": "#%%\n"
    }
   },
   "outputs": [],
   "source": [
    "arr_2d = [[1, 2, 3], [4, 5, 6]]\n",
    "np_arr_2D = ..."
   ]
  },
  {
   "cell_type": "markdown",
   "metadata": {},
   "source": [
    "<details><summary markdown='span'>View solution</summary>\n",
    "\n",
    "```python\n",
    "np_arr_2D = np.array([[1, 2, 3], [4, 5, 6]])\n",
    "```\n",
    "</details>"
   ]
  },
  {
   "cell_type": "markdown",
   "metadata": {
    "pycharm": {
     "name": "#%% md\n"
    }
   },
   "source": [
    "### Create a numpy array using a DataFrame column"
   ]
  },
  {
   "cell_type": "code",
   "execution_count": null,
   "metadata": {
    "collapsed": false,
    "jupyter": {
     "outputs_hidden": false
    },
    "pycharm": {
     "name": "#%%\n"
    }
   },
   "outputs": [],
   "source": [
    "# Import the data in a pandas dataFrame and retrieve the Weekly_Sales column in a variable\n",
    "df = ...\n",
    "weekly_sales = ..."
   ]
  },
  {
   "cell_type": "markdown",
   "metadata": {},
   "source": [
    "<details><summary markdown='span'>View solution</summary>\n",
    "\n",
    "```python\n",
    "df = pd.read_csv(\"data/data.csv\")\n",
    "weekly_sales = df[\"Weekly_Sales\"]\n",
    "```\n",
    "</details>"
   ]
  },
  {
   "cell_type": "code",
   "execution_count": null,
   "metadata": {
    "collapsed": false,
    "jupyter": {
     "outputs_hidden": false
    },
    "pycharm": {
     "name": "#%%\n"
    }
   },
   "outputs": [],
   "source": [
    "# Creation of the np array\n",
    "np_ws = ...\n",
    "np_ws"
   ]
  },
  {
   "cell_type": "markdown",
   "metadata": {},
   "source": [
    "<details><summary markdown='span'>View solution</summary>\n",
    "\n",
    "```python\n",
    "np_ws = np.array(weekly_sales)\n",
    "np_ws\n",
    "```\n",
    "</details>"
   ]
  },
  {
   "cell_type": "code",
   "execution_count": null,
   "metadata": {
    "collapsed": false,
    "jupyter": {
     "outputs_hidden": false
    },
    "pycharm": {
     "name": "#%%\n"
    }
   },
   "outputs": [],
   "source": [
    "# print out the shape of the numpy array\n",
    "np_ws.shape"
   ]
  },
  {
   "cell_type": "code",
   "execution_count": null,
   "metadata": {
    "collapsed": false,
    "jupyter": {
     "outputs_hidden": false
    },
    "pycharm": {
     "name": "#%%\n"
    }
   },
   "outputs": [],
   "source": [
    "# Retrieve the first and the last element using indexing (same way than in a classic list)\n",
    "first_elem = ...\n",
    "last_elem = ...\n",
    "\n",
    "# Retrieve the first half of the array\n",
    "first_half = ..."
   ]
  },
  {
   "cell_type": "markdown",
   "metadata": {},
   "source": [
    "<details><summary markdown='span'>View solution</summary>\n",
    "\n",
    "```python\n",
    "# Retrieve the first and the last element using indexing (same way than in a classic list)\n",
    "first_elem = np_ws[0]\n",
    "last_elem = np_ws[-1]\n",
    "\n",
    "# Retrieve the first half of the array\n",
    "first_half = np_ws[:len(np_ws)//2]\n",
    "```\n",
    "</details>"
   ]
  },
  {
   "cell_type": "markdown",
   "metadata": {
    "pycharm": {
     "name": "#%% md\n"
    }
   },
   "source": [
    "### Reshaping: Convert 1-D array into a 2-D array\n",
    "#### Use the [reshape](https://numpy.org/doc/stable/reference/generated/numpy.ndarray.reshape.html) method to convert our np list into a 2-D array"
   ]
  },
  {
   "cell_type": "code",
   "execution_count": null,
   "metadata": {
    "collapsed": false,
    "jupyter": {
     "outputs_hidden": false
    },
    "pycharm": {
     "name": "#%%\n"
    }
   },
   "outputs": [],
   "source": [
    "np_arr_3D = ...\n",
    "np_arr_3D.shape"
   ]
  },
  {
   "cell_type": "markdown",
   "metadata": {},
   "source": [
    "<details><summary markdown='span'>View solution</summary>\n",
    "\n",
    "```python\n",
    "np_arr_3D = np_ws.reshape(2, len(np_ws)//2)\n",
    "np_arr_3D.shape\n",
    "```\n",
    "</details>\n",
    "\n",
    "#### Using reshape and broadcasting to multiply the following arrays together"
   ]
  },
  {
   "cell_type": "code",
   "execution_count": null,
   "metadata": {},
   "outputs": [],
   "source": [
    "import numpy as np\n",
    "arr1 = np.array([[ 0.0,  0.0,  0.0],\n",
    "                 [10.0, 10.0, 10.0],\n",
    "                 [20.0, 20.0, 20.0],\n",
    "                 [30.0, 30.0, 30.0]])\n",
    "arr2 = np.array([1.0, 2.0, 3.0, 4.0])\n",
    "\n",
    "# modify arr2 there\n",
    "\n",
    "arr1 * arr2  # Currently returns ValueError: operands could not be broadcast together with shapes (4,3) (4,) "
   ]
  },
  {
   "cell_type": "markdown",
   "metadata": {
    "pycharm": {
     "name": "#%% md\n"
    }
   },
   "source": [
    "<details><summary markdown='span'>View solution</summary>\n",
    "\n",
    "```python\n",
    "arr1 = np.array([[ 0.0,  0.0,  0.0],\n",
    "                 [10.0, 10.0, 10.0],\n",
    "                 [20.0, 20.0, 20.0],\n",
    "                 [30.0, 30.0, 30.0]])\n",
    "arr2 = np.array([1.0, 2.0, 3.0, 4.0])\n",
    "\n",
    "arr2 = arr2.reshape(len(arr2),1)\n",
    "arr1 * arr2 \n",
    "```\n",
    "</details>\n",
    "\n",
    "### Where: The search method of numpy arrays\n",
    "#### [where](https://numpy.org/doc/stable/reference/generated/numpy.where.html) allows you to use masks (filter) to locate specific element in a numpy array"
   ]
  },
  {
   "cell_type": "code",
   "execution_count": null,
   "metadata": {
    "collapsed": false,
    "jupyter": {
     "outputs_hidden": false
    },
    "pycharm": {
     "name": "#%%\n"
    }
   },
   "outputs": [],
   "source": [
    "# Find all sales higher than 20 000\n",
    "filtered_arr = ..."
   ]
  },
  {
   "cell_type": "markdown",
   "metadata": {},
   "source": [
    "<details><summary markdown='span'>View solution</summary>\n",
    "\n",
    "```python\n",
    "# Find all sales higher than 20 000\n",
    "np_ws[np.where(np_ws > 20000)]\n",
    "```\n",
    "</details>"
   ]
  },
  {
   "cell_type": "markdown",
   "metadata": {
    "pycharm": {
     "name": "#%% md\n"
    }
   },
   "source": [
    "### Vectorization: One of the main strength of numpy arrays\n",
    "#### When numpy arrays are used, you can make multiple arithmetic operations on each values in one single line"
   ]
  },
  {
   "cell_type": "code",
   "execution_count": null,
   "metadata": {
    "collapsed": false,
    "jupyter": {
     "outputs_hidden": false
    },
    "pycharm": {
     "name": "#%%\n"
    }
   },
   "outputs": [],
   "source": [
    "# Try to add the np array with itself\n",
    "add_np_arr = ...\n",
    "\n",
    "# Try to substract\n",
    "sub_np_arr = ...\n",
    "\n",
    "# Divide\n",
    "div_np_arr = ...\n",
    "\n",
    "# Multiply\n",
    "mul_np_arr = ..."
   ]
  },
  {
   "cell_type": "markdown",
   "metadata": {},
   "source": [
    "<details><summary markdown='span'>View solution</summary>\n",
    "\n",
    "```python\n",
    "# Try to add the np array with itself\n",
    "add_np_arr = np_ws + np_ws\n",
    "\n",
    "# Try to substract\n",
    "sub_np_arr = np_ws - np_ws\n",
    "\n",
    "# Divide\n",
    "div_np_arr = np_ws / np_ws\n",
    "\n",
    "# Multiply\n",
    "mul_np_arr = np_ws * np_ws\n",
    "```\n",
    "</details>"
   ]
  },
  {
   "cell_type": "markdown",
   "metadata": {
    "pycharm": {
     "name": "#%% md\n"
    }
   },
   "source": [
    "### You can also make power and modulo\n"
   ]
  },
  {
   "cell_type": "code",
   "execution_count": null,
   "metadata": {
    "collapsed": false,
    "jupyter": {
     "outputs_hidden": false
    },
    "pycharm": {
     "name": "#%%\n"
    }
   },
   "outputs": [],
   "source": [
    "# make power of 2 of the list\n",
    "pow_2_np_arr = ...\n",
    "\n",
    "# Make modulo 4 of all elements in the np array\n",
    "mod_np_arr = ..."
   ]
  },
  {
   "cell_type": "markdown",
   "metadata": {},
   "source": [
    "<details><summary markdown='span'>View solution</summary>\n",
    "\n",
    "```python\n",
    "# make power of 2 of the list\n",
    "pow_2_np_arr = np_ws ** 2\n",
    "\n",
    "# Make modulo 4 of all elements in the np array\n",
    "mod_np_arr = np_ws % 4\n",
    "```\n",
    "</details>"
   ]
  },
  {
   "cell_type": "markdown",
   "metadata": {
    "pycharm": {
     "name": "#%% md\n"
    }
   },
   "source": [
    "#### There are multiple other function available in the numpy module (unique, sum, round, logs, ...)"
   ]
  },
  {
   "cell_type": "markdown",
   "metadata": {
    "pycharm": {
     "name": "#%% md\n"
    }
   },
   "source": [
    "## Statistics\n",
    "#### Such as in excel, you can use numpy to determine multiple helpful statistical values. Calculate the asked statistics of the weekly sale array. Check out [Numpy stats page](https://numpy.org/doc/stable/reference/routines.statistics.html) for the documentation"
   ]
  },
  {
   "cell_type": "markdown",
   "metadata": {
    "pycharm": {
     "name": "#%% md\n"
    }
   },
   "source": [
    "We will ask you to first implement some basic statistics function, then we will compare them to their numpy version"
   ]
  },
  {
   "cell_type": "code",
   "execution_count": null,
   "metadata": {
    "collapsed": false,
    "jupyter": {
     "outputs_hidden": false
    },
    "pycharm": {
     "name": "#%%\n"
    }
   },
   "outputs": [],
   "source": [
    "def mean(arr):\n",
    "    pass\n",
    "\n",
    "round(mean(np_ws), 1) == round(np.mean(np_ws), 1)"
   ]
  },
  {
   "cell_type": "markdown",
   "metadata": {},
   "source": [
    "<details><summary markdown='span'>View solution</summary>\n",
    "\n",
    "```python\n",
    "def mean(arr):\n",
    "    return float(sum(arr)) / len(arr)\n",
    "\n",
    "round(mean(np_ws), 1) == round(np.mean(np_ws), 1)\n",
    "```\n",
    "</details>"
   ]
  },
  {
   "cell_type": "code",
   "execution_count": null,
   "metadata": {
    "collapsed": false,
    "jupyter": {
     "outputs_hidden": false
    },
    "pycharm": {
     "name": "#%%\n"
    }
   },
   "outputs": [],
   "source": [
    "def var(arr):\n",
    "    pass\n",
    "\n",
    "round(var(np_ws), 1) == round(np.var(np_ws), 1)"
   ]
  },
  {
   "cell_type": "markdown",
   "metadata": {},
   "source": [
    "<details><summary markdown='span'>View solution</summary>\n",
    "\n",
    "```python\n",
    "def var(arr):\n",
    "    x = abs(arr - arr.mean())**2\n",
    "    return mean(x)\n",
    "\n",
    "round(var(np_ws), 1) == round(np.var(np_ws), 1)\n",
    "```\n",
    "</details>"
   ]
  },
  {
   "cell_type": "code",
   "execution_count": null,
   "metadata": {
    "collapsed": false,
    "jupyter": {
     "outputs_hidden": false
    },
    "pycharm": {
     "name": "#%%\n"
    }
   },
   "outputs": [],
   "source": [
    "def std(arr):\n",
    "    pass\n",
    "\n",
    "round(std(np_ws), 1) == round(np.std(np_ws), 1)"
   ]
  },
  {
   "cell_type": "markdown",
   "metadata": {},
   "source": [
    "<details><summary markdown='span'>View solution</summary>\n",
    "\n",
    "```python\n",
    "def std(arr):\n",
    "    return np.sqrt(var(arr))\n",
    "\n",
    "round(std(np_ws), 1) == round(np.std(np_ws), 1)\n",
    "```\n",
    "</details>"
   ]
  },
  {
   "cell_type": "code",
   "execution_count": null,
   "metadata": {
    "collapsed": false,
    "jupyter": {
     "outputs_hidden": false
    },
    "pycharm": {
     "name": "#%%\n"
    }
   },
   "outputs": [],
   "source": [
    "def median(arr):\n",
    "    pass\n",
    "\n",
    "round(median(np_ws), 1) == round(np.median(np_ws), 1)"
   ]
  },
  {
   "cell_type": "markdown",
   "metadata": {},
   "source": [
    "<details><summary markdown='span'>View solution</summary>\n",
    "\n",
    "```python\n",
    "def median(arr):\n",
    "    return sorted(arr)[(len(arr) + 1) // 2]\n",
    "\n",
    "round(median(np_ws), 1) == round(np.median(np_ws), 1)\n",
    "```\n",
    "</details>"
   ]
  },
  {
   "cell_type": "code",
   "execution_count": null,
   "metadata": {
    "collapsed": false,
    "jupyter": {
     "outputs_hidden": false
    },
    "pycharm": {
     "name": "#%%\n"
    }
   },
   "outputs": [],
   "source": [
    "def max_val(arr):\n",
    "    pass\n",
    "\n",
    "round(max_val(np_ws), 1) == round(np.max(np_ws), 1)"
   ]
  },
  {
   "cell_type": "markdown",
   "metadata": {},
   "source": [
    "<details><summary markdown='span'>View solution</summary>\n",
    "\n",
    "```python\n",
    "def max_val(arr):\n",
    "    actual = -1\n",
    "    for element in arr:\n",
    "        if element > actual:\n",
    "            actual = element\n",
    "    return actual\n",
    "\n",
    "round(max_val(np_ws), 1) == round(np.max(np_ws), 1)\n",
    "```\n",
    "</details>"
   ]
  },
  {
   "cell_type": "markdown",
   "metadata": {
    "pycharm": {
     "name": "#%% md\n"
    }
   },
   "source": [
    "There are a lot of other Statistics methods in numpy, try to find them all in the documentation !"
   ]
  },
  {
   "cell_type": "code",
   "execution_count": null,
   "metadata": {
    "collapsed": false,
    "jupyter": {
     "outputs_hidden": false
    },
    "pycharm": {
     "name": "#%%\n"
    }
   },
   "outputs": [],
   "source": [
    "median_np = ...\n",
    "max_np = ...\n",
    "min_np = ...\n",
    "range_np = ...\n",
    "quantile_25_np = ...\n",
    "quantile_75_np = ..."
   ]
  },
  {
   "cell_type": "markdown",
   "metadata": {},
   "source": [
    "<details><summary markdown='span'>View solution</summary>\n",
    "\n",
    "```python\n",
    "mean_np = np.mean(np_ws)\n",
    "var_np = np.var(np_ws)\n",
    "std_np = np.std(np_ws)\n",
    "median_np = np.median(np_ws)\n",
    "max_np = np.max(np_ws)\n",
    "min_np = np.min(np_ws)\n",
    "range_np = np.ptp(np_ws)\n",
    "quantile_25_np = np.quantile(np_ws, 0.25)\n",
    "quantile_75_np = np.quantile(np_ws, 0.75)\n",
    "```\n",
    "</details>"
   ]
  }
 ],
 "metadata": {
  "kernelspec": {
   "display_name": "Python 3 (ipykernel)",
   "language": "python",
   "name": "python3"
  },
  "language_info": {
   "codemirror_mode": {
    "name": "ipython",
    "version": 3
   },
   "file_extension": ".py",
   "mimetype": "text/x-python",
   "name": "python",
   "nbconvert_exporter": "python",
   "pygments_lexer": "ipython3",
   "version": "3.9.6"
  }
 },
 "nbformat": 4,
 "nbformat_minor": 4
}
